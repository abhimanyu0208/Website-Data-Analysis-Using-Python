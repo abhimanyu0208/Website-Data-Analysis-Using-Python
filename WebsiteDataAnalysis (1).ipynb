{
 "cells": [
  {
   "cell_type": "code",
   "execution_count": null,
   "id": "963c4181-6a1e-4b78-a328-4a405104167a",
   "metadata": {},
   "outputs": [],
   "source": [
    "import numpy as np\n",
    "import pandas as pd\n",
    "import matplotlib.pyplot as plt\n",
    "import seaborn as sns"
   ]
  },
  {
   "cell_type": "code",
   "execution_count": null,
   "id": "7bfb6217-b185-444e-bece-ecf079ec8fbd",
   "metadata": {},
   "outputs": [],
   "source": [
    "df = pd.read_csv(\"data-export (1).csv\")"
   ]
  },
  {
   "cell_type": "code",
   "execution_count": null,
   "id": "bb0545be-c32c-4c23-8512-8208b98d3fd5",
   "metadata": {},
   "outputs": [],
   "source": [
    "df.head()"
   ]
  },
  {
   "cell_type": "code",
   "execution_count": null,
   "id": "45cb6a3c-f6d8-480b-87af-fe407e528d19",
   "metadata": {},
   "outputs": [],
   "source": [
    "df.columns = df.iloc[0]\n",
    "df = df.drop(index=0).reset_index(drop = True)\n",
    "df.columns = [\"channel group\",\"DateHour\",\"Users\",\"Sessions\",\"Engaged Sessions\",\"Average engagement time per session\",\"Engaged sessions per user\",\"Events per session\",\"Engagement rate\",\"Event count\"]            \n",
    "df.head()"
   ]
  },
  {
   "cell_type": "code",
   "execution_count": null,
   "id": "6d932c68-9886-4477-9c0b-87ebde60cdb1",
   "metadata": {},
   "outputs": [],
   "source": [
    "df.info()"
   ]
  },
  {
   "cell_type": "code",
   "execution_count": null,
   "id": "9484a242-4992-4891-a7ee-368fbd0d705d",
   "metadata": {},
   "outputs": [],
   "source": [
    "df[\"DateHour\"] = pd.to_datetime(df[\"DateHour\"], format=\"%Y%m%d%H\", errors='coerce')\n"
   ]
  },
  {
   "cell_type": "code",
   "execution_count": null,
   "id": "e99602a5-e7e7-4183-b0fd-86f286a0eb6e",
   "metadata": {},
   "outputs": [],
   "source": [
    "df.info()"
   ]
  },
  {
   "cell_type": "code",
   "execution_count": null,
   "id": "d2c916ff-888a-4a43-b25e-da85dd57d32a",
   "metadata": {},
   "outputs": [],
   "source": [
    "df.head()"
   ]
  },
  {
   "cell_type": "code",
   "execution_count": null,
   "id": "3c89e87f-d7c2-4c6c-8b44-3dc6a1c4c67f",
   "metadata": {},
   "outputs": [],
   "source": [
    "numeric_cols = df.columns.drop([\"channel group\", \"DateHour\"])\n",
    "df[numeric_cols] = df[numeric_cols].apply(pd.to_numeric, errors='coerce')\n",
    "df[\"Hour\"] = df[\"DateHour\"].dt.hour"
   ]
  },
  {
   "cell_type": "markdown",
   "id": "cae9c419-8d41-4f37-99d3-b2ed490703a3",
   "metadata": {},
   "source": [
    "## Final Data for analysis after cleaning."
   ]
  },
  {
   "cell_type": "code",
   "execution_count": null,
   "id": "c04f48f2-d51a-42f6-993c-ae1e36346448",
   "metadata": {},
   "outputs": [],
   "source": [
    "df.head()"
   ]
  },
  {
   "cell_type": "code",
   "execution_count": null,
   "id": "730f3d50-4861-49b2-899c-adb381658807",
   "metadata": {},
   "outputs": [],
   "source": [
    "df.info()"
   ]
  },
  {
   "cell_type": "code",
   "execution_count": null,
   "id": "6d9458b6-8a04-4662-92f1-836b569dd4ec",
   "metadata": {},
   "outputs": [],
   "source": [
    "df.describe()"
   ]
  },
  {
   "cell_type": "markdown",
   "id": "848f86d8-ccee-4716-97d4-d908f777fbef",
   "metadata": {},
   "source": [
    "## What patterns or trends can you observe in website sessions and users over time?"
   ]
  },
  {
   "cell_type": "code",
   "execution_count": null,
   "id": "c7870f90-c00f-4367-8d28-80e105d554ad",
   "metadata": {},
   "outputs": [],
   "source": [
    "sns.set(style=\"whitegrid\")"
   ]
  },
  {
   "cell_type": "code",
   "execution_count": null,
   "id": "14bdbf1f-2b62-41b3-955d-715c927ae7e1",
   "metadata": {},
   "outputs": [],
   "source": [
    "plt.figure(figsize=(10,5))\n",
    "df.groupby(\"DateHour\")[[\"Sessions\",\"Users\"]].sum().plot(ax=plt.gca())\n",
    "plt.show()"
   ]
  },
  {
   "cell_type": "markdown",
   "id": "eeb382e2-ba53-4f40-9e90-71cd86fdd552",
   "metadata": {},
   "source": [
    "## Which marketing channel brought the highest number of users to the website, \n",
    "## and how can we use this insight to improve traffic from  other sources?"
   ]
  },
  {
   "cell_type": "code",
   "execution_count": null,
   "id": "b08d151f-af90-4aa1-b474-1ed9120c8dd4",
   "metadata": {},
   "outputs": [],
   "source": [
    "plt.figure(figsize=(8, 5))\n",
    "sns.barplot(data=df, x=\"channel group\", y=\"Users\", estimator=np.sum, palette=\"viridis\")\n",
    "plt.title(\"Total Users by Channel\")\n",
    "plt.xticks(rotation=45)\n",
    "plt.show()"
   ]
  },
  {
   "cell_type": "markdown",
   "id": "37414563-6afd-4ec0-8e95-7f4f14bd8089",
   "metadata": {},
   "source": [
    "## Which channel has the highest average engagement time, \n",
    "## and what does that tell us about users behaviour and content effectiveness?"
   ]
  },
  {
   "cell_type": "code",
   "execution_count": null,
   "id": "8df1bf08-87d0-4bec-a93f-e6c53f7d5b40",
   "metadata": {},
   "outputs": [],
   "source": [
    "plt.figure(figsize=(8, 5))\n",
    "sns.barplot(data=df, x=\"channel group\", y=\"Average engagement time per session\", estimator=np.mean, palette=\"magma\")\n",
    "plt.title(\"Average Engagement Time by Channel\")\n",
    "plt.xticks(rotation=45)\n",
    "plt.show()"
   ]
  },
  {
   "cell_type": "markdown",
   "id": "5fa6c784-6a1e-4aff-9cce-c201aec4972b",
   "metadata": {},
   "source": [
    "## How does engagement rate vary across different traffic channels?"
   ]
  },
  {
   "cell_type": "code",
   "execution_count": null,
   "id": "a3a5c38f-9b3a-4132-a3fa-0c2194a3b76c",
   "metadata": {},
   "outputs": [],
   "source": [
    "df.head()"
   ]
  },
  {
   "cell_type": "code",
   "execution_count": null,
   "id": "b049441e-a33c-4c63-a4d2-743f52d5bb63",
   "metadata": {},
   "outputs": [],
   "source": [
    "plt.figure(figsize=(8, 5))\n",
    "sns.boxplot(data=df, x=\"channel group\", y=\"Engagement rate\", palette=\"coolwarm\")\n",
    "plt.title(\"Engagement Rate Distribution by Channel\")\n",
    "plt.xticks(rotation=45)\n",
    "plt.show()"
   ]
  },
  {
   "cell_type": "markdown",
   "id": "13afb99e-f386-452a-8490-ee7a67882669",
   "metadata": {},
   "source": [
    "## Which channel are driving more engaged sessions compared to non-engaged ones,\n",
    "## and what strategies can improve engagement in underperforming channels?"
   ]
  },
  {
   "cell_type": "code",
   "execution_count": null,
   "id": "216240d3-87dd-4d21-9d64-dcdaa2aa357d",
   "metadata": {},
   "outputs": [],
   "source": [
    "session_df = df.groupby(\"channel group\")[[\"Sessions\", \"Engaged Sessions\"]].sum().reset_index()\n",
    "session_df[\"Non-Engaged\"] = session_df[\"Sessions\"] - session_df[\"Engaged Sessions\"]\n",
    "session_df_melted = session_df.melt(id_vars=\"channel group\", value_vars= [\"Engaged Sessions\", \"Non-Engaged\"])\n",
    "\n",
    "plt.figure(figsize=(8, 5))\n",
    "sns.barplot(data=session_df_melted, x=\"channel group\", y=\"value\", hue=\"variable\")\n",
    "plt.title(\"Engaged vs Non-Engaged Sessions\")\n",
    "plt.xticks(rotation=45)\n",
    "plt.show()"
   ]
  },
  {
   "cell_type": "markdown",
   "id": "d3801836-e858-4d79-a020-af424446b32a",
   "metadata": {},
   "source": [
    "## At what hour of the day does each channel drive the most traffic?"
   ]
  },
  {
   "cell_type": "code",
   "execution_count": null,
   "id": "50952699-d699-454f-9ae3-01880874ff6f",
   "metadata": {},
   "outputs": [],
   "source": [
    "heatmap_data = df.groupby([\"Hour\",\"channel group\"])[\"Sessions\"].sum().unstack().fillna(0)\n",
    "\n",
    "plt.figure(figsize=(12, 6))\n",
    "sns.heatmap(heatmap_data, cmap=\"YlGnBu\", linewidths = .5, annot = True,fmt='.0f')\n",
    "plt.title(\"Engaged vs Non-Engaged Sessions\")\n",
    "plt.xlabel(\"Channel Group\")\n",
    "plt.ylabel(\"Hour of Day\")\n",
    "plt.show()\n"
   ]
  },
  {
   "cell_type": "markdown",
   "id": "8d2f2527-5426-4b51-8b00-2143bf97e9cc",
   "metadata": {},
   "source": [
    "## Is there any correlation between high traffic (sessions) and high engagement rate over time?"
   ]
  },
  {
   "cell_type": "code",
   "execution_count": null,
   "id": "5dc42cb5-4809-4480-900e-6163a17bbc0b",
   "metadata": {},
   "outputs": [],
   "source": [
    "df_plot = df.groupby(\"DateHour\")[[\"Engagement rate\",\"Sessions\"]].mean().reset_index()\n",
    "\n",
    "plt.figure(figsize=(10,5))\n",
    "plt.plot(df_plot[\"DateHour\"], df_plot[\"Engagement rate\"],label=\"Engagement Rate\", color=\"purple\")\n",
    "plt.plot(df_plot[\"DateHour\"], df_plot[\"Sessions\"],label=\"Sessions\", color= \"green\")\n",
    "plt.title(\"Engagement Rate vs Session Over Time\")\n",
    "plt.xlabel(\"DateHour\")\n",
    "plt.legend()\n",
    "plt.grid(True)\n",
    "plt.show()"
   ]
  }
 ],
 "metadata": {
  "kernelspec": {
   "display_name": "Python 3 (ipykernel)",
   "language": "python",
   "name": "python3"
  },
  "language_info": {
   "codemirror_mode": {
    "name": "ipython",
    "version": 3
   },
   "file_extension": ".py",
   "mimetype": "text/x-python",
   "name": "python",
   "nbconvert_exporter": "python",
   "pygments_lexer": "ipython3",
   "version": "3.13.7"
  }
 },
 "nbformat": 4,
 "nbformat_minor": 5
}
